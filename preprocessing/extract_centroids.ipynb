{
 "cells": [
  {
   "attachments": {},
   "cell_type": "markdown",
   "id": "602da8db",
   "metadata": {},
   "source": [
    "## Generate centroids of multipolygons"
   ]
  },
  {
   "cell_type": "code",
   "execution_count": 1,
   "id": "2ca7d7c8",
   "metadata": {},
   "outputs": [],
   "source": [
    "import warnings\n",
    "warnings.filterwarnings(\"ignore\")\n",
    "import pandas as pd\n",
    "import geopandas as gpd\n",
    "import couchdb\n",
    "import os\n",
    "import json"
   ]
  },
  {
   "cell_type": "code",
   "execution_count": 10,
   "id": "b5e82bfb",
   "metadata": {},
   "outputs": [],
   "source": [
    "# load boundaries of states and SUAs\n",
    "state_gdf = gpd.read_file(\"../data/Digital boundaries/state/STE_2016_AUST.shp\")\n",
    "sua_gdf = gpd.read_file(\"../data/Digital boundaries/SUA/SUA_2016_AUST.shp\")"
   ]
  },
  {
   "cell_type": "code",
   "execution_count": 11,
   "id": "6dff9b08",
   "metadata": {},
   "outputs": [],
   "source": [
    "def centroid_state(gdf, name):\n",
    "    gdf['centroids'] = gdf.centroid\n",
    "    gdf['lat'] = gdf['centroids'].y\n",
    "    gdf['lng'] = gdf['centroids'].x\n",
    "    gdf['name'] = gdf[name].str.lower()\n",
    "    gdf = gdf[['name', 'lat', 'lng']]\n",
    "    return gdf"
   ]
  },
  {
   "cell_type": "code",
   "execution_count": 12,
   "id": "add479f3",
   "metadata": {},
   "outputs": [],
   "source": [
    "def centroid_sua(gdf, name):\n",
    "    gdf['centroids'] = gdf.centroid\n",
    "    gdf['lat'] = gdf['centroids'].y\n",
    "    gdf['lng'] = gdf['centroids'].x\n",
    "    gdf['name'] = gdf[name]\n",
    "    gdf = gdf[['name', 'lat', 'lng']]\n",
    "    return gdf"
   ]
  },
  {
   "cell_type": "code",
   "execution_count": 13,
   "id": "0278960a",
   "metadata": {},
   "outputs": [],
   "source": [
    "state_gdf_finalized = centroid_state(state_gdf, 'STE_NAME16')\n",
    "sua_gdf_finalized = centroid_sua(sua_gdf, 'SUA_NAME16')"
   ]
  },
  {
   "cell_type": "code",
   "execution_count": 14,
   "id": "af02f41a",
   "metadata": {},
   "outputs": [
    {
     "data": {
      "text/html": [
       "<div>\n",
       "<style scoped>\n",
       "    .dataframe tbody tr th:only-of-type {\n",
       "        vertical-align: middle;\n",
       "    }\n",
       "\n",
       "    .dataframe tbody tr th {\n",
       "        vertical-align: top;\n",
       "    }\n",
       "\n",
       "    .dataframe thead th {\n",
       "        text-align: right;\n",
       "    }\n",
       "</style>\n",
       "<table border=\"1\" class=\"dataframe\">\n",
       "  <thead>\n",
       "    <tr style=\"text-align: right;\">\n",
       "      <th></th>\n",
       "      <th>name</th>\n",
       "      <th>lat</th>\n",
       "      <th>lng</th>\n",
       "    </tr>\n",
       "  </thead>\n",
       "  <tbody>\n",
       "    <tr>\n",
       "      <th>0</th>\n",
       "      <td>new south wales</td>\n",
       "      <td>-32.165600</td>\n",
       "      <td>147.008154</td>\n",
       "    </tr>\n",
       "    <tr>\n",
       "      <th>1</th>\n",
       "      <td>victoria</td>\n",
       "      <td>-36.850094</td>\n",
       "      <td>144.304288</td>\n",
       "    </tr>\n",
       "    <tr>\n",
       "      <th>2</th>\n",
       "      <td>queensland</td>\n",
       "      <td>-22.567052</td>\n",
       "      <td>144.545851</td>\n",
       "    </tr>\n",
       "    <tr>\n",
       "      <th>3</th>\n",
       "      <td>south australia</td>\n",
       "      <td>-30.108162</td>\n",
       "      <td>135.831738</td>\n",
       "    </tr>\n",
       "    <tr>\n",
       "      <th>4</th>\n",
       "      <td>western australia</td>\n",
       "      <td>-25.466471</td>\n",
       "      <td>122.181775</td>\n",
       "    </tr>\n",
       "    <tr>\n",
       "      <th>5</th>\n",
       "      <td>tasmania</td>\n",
       "      <td>-41.936457</td>\n",
       "      <td>146.595152</td>\n",
       "    </tr>\n",
       "    <tr>\n",
       "      <th>6</th>\n",
       "      <td>northern territory</td>\n",
       "      <td>-19.414739</td>\n",
       "      <td>133.364913</td>\n",
       "    </tr>\n",
       "    <tr>\n",
       "      <th>7</th>\n",
       "      <td>australian capital territory</td>\n",
       "      <td>-35.488766</td>\n",
       "      <td>149.002523</td>\n",
       "    </tr>\n",
       "    <tr>\n",
       "      <th>8</th>\n",
       "      <td>other territories</td>\n",
       "      <td>-20.797265</td>\n",
       "      <td>128.368543</td>\n",
       "    </tr>\n",
       "  </tbody>\n",
       "</table>\n",
       "</div>"
      ],
      "text/plain": [
       "                           name        lat         lng\n",
       "0               new south wales -32.165600  147.008154\n",
       "1                      victoria -36.850094  144.304288\n",
       "2                    queensland -22.567052  144.545851\n",
       "3               south australia -30.108162  135.831738\n",
       "4             western australia -25.466471  122.181775\n",
       "5                      tasmania -41.936457  146.595152\n",
       "6            northern territory -19.414739  133.364913\n",
       "7  australian capital territory -35.488766  149.002523\n",
       "8             other territories -20.797265  128.368543"
      ]
     },
     "execution_count": 14,
     "metadata": {},
     "output_type": "execute_result"
    }
   ],
   "source": [
    "geo_center = pd.concat([state_gdf_finalized, sua_gdf_finalized])\n",
    "geo_center.head(9)"
   ]
  },
  {
   "cell_type": "code",
   "execution_count": 15,
   "id": "87e3c573",
   "metadata": {},
   "outputs": [
    {
     "data": {
      "text/html": [
       "<div>\n",
       "<style scoped>\n",
       "    .dataframe tbody tr th:only-of-type {\n",
       "        vertical-align: middle;\n",
       "    }\n",
       "\n",
       "    .dataframe tbody tr th {\n",
       "        vertical-align: top;\n",
       "    }\n",
       "\n",
       "    .dataframe thead th {\n",
       "        text-align: right;\n",
       "    }\n",
       "</style>\n",
       "<table border=\"1\" class=\"dataframe\">\n",
       "  <thead>\n",
       "    <tr style=\"text-align: right;\">\n",
       "      <th></th>\n",
       "      <th>name</th>\n",
       "      <th>lat</th>\n",
       "      <th>lng</th>\n",
       "    </tr>\n",
       "  </thead>\n",
       "  <tbody>\n",
       "    <tr>\n",
       "      <th>0</th>\n",
       "      <td>new south wales</td>\n",
       "      <td>-32.165600</td>\n",
       "      <td>147.008154</td>\n",
       "    </tr>\n",
       "    <tr>\n",
       "      <th>1</th>\n",
       "      <td>victoria</td>\n",
       "      <td>-36.850094</td>\n",
       "      <td>144.304288</td>\n",
       "    </tr>\n",
       "    <tr>\n",
       "      <th>2</th>\n",
       "      <td>queensland</td>\n",
       "      <td>-22.567052</td>\n",
       "      <td>144.545851</td>\n",
       "    </tr>\n",
       "    <tr>\n",
       "      <th>3</th>\n",
       "      <td>south australia</td>\n",
       "      <td>-30.108162</td>\n",
       "      <td>135.831738</td>\n",
       "    </tr>\n",
       "    <tr>\n",
       "      <th>4</th>\n",
       "      <td>western australia</td>\n",
       "      <td>-25.466471</td>\n",
       "      <td>122.181775</td>\n",
       "    </tr>\n",
       "    <tr>\n",
       "      <th>5</th>\n",
       "      <td>tasmania</td>\n",
       "      <td>-41.936457</td>\n",
       "      <td>146.595152</td>\n",
       "    </tr>\n",
       "    <tr>\n",
       "      <th>6</th>\n",
       "      <td>northern territory</td>\n",
       "      <td>-19.414739</td>\n",
       "      <td>133.364913</td>\n",
       "    </tr>\n",
       "    <tr>\n",
       "      <th>7</th>\n",
       "      <td>australian capital territory</td>\n",
       "      <td>-35.488766</td>\n",
       "      <td>149.002523</td>\n",
       "    </tr>\n",
       "    <tr>\n",
       "      <th>8</th>\n",
       "      <td>offshore territories</td>\n",
       "      <td>-20.797265</td>\n",
       "      <td>128.368543</td>\n",
       "    </tr>\n",
       "  </tbody>\n",
       "</table>\n",
       "</div>"
      ],
      "text/plain": [
       "                           name        lat         lng\n",
       "0               new south wales -32.165600  147.008154\n",
       "1                      victoria -36.850094  144.304288\n",
       "2                    queensland -22.567052  144.545851\n",
       "3               south australia -30.108162  135.831738\n",
       "4             western australia -25.466471  122.181775\n",
       "5                      tasmania -41.936457  146.595152\n",
       "6            northern territory -19.414739  133.364913\n",
       "7  australian capital territory -35.488766  149.002523\n",
       "8          offshore territories -20.797265  128.368543"
      ]
     },
     "execution_count": 15,
     "metadata": {},
     "output_type": "execute_result"
    }
   ],
   "source": [
    "geo_center['name'][8] = 'offshore territories'\n",
    "geo_center.head(9)"
   ]
  },
  {
   "cell_type": "code",
   "execution_count": 16,
   "id": "9ba2623d",
   "metadata": {},
   "outputs": [
    {
     "data": {
      "text/plain": [
       "(119, 3)"
      ]
     },
     "execution_count": 16,
     "metadata": {},
     "output_type": "execute_result"
    }
   ],
   "source": [
    "geo_center.shape"
   ]
  },
  {
   "cell_type": "code",
   "execution_count": 17,
   "id": "d261cb28",
   "metadata": {},
   "outputs": [],
   "source": [
    "with open('../data//Digital boundaries/geo_center.json', 'w') as f:\n",
    "    geo_center.to_json(f, orient='records')"
   ]
  },
  {
   "cell_type": "code",
   "execution_count": 30,
   "id": "21e3b083",
   "metadata": {},
   "outputs": [],
   "source": [
    "user = 'admin'\n",
    "psw = 'qazwsxedc'\n",
    "node_ip = '172.26.130.9'\n",
    "# connect to the CouchDB server\n",
    "server = couchdb.Server(f'http://{user}:{psw}@{node_ip}:5984')\n",
    "\n",
    "# select the database\n",
    "db = server['geocenter']\n",
    "\n",
    "i = 0\n",
    "package = []\n",
    "\n",
    "with open(r\"../data//Digital boundaries/geo_center.json\", \"r\") as f:\n",
    "    data = json.load(f)\n",
    "    for item in data:\n",
    "        db.save(item)"
   ]
  }
 ],
 "metadata": {
  "kernelspec": {
   "display_name": "Python 3 (ipykernel)",
   "language": "python",
   "name": "python3"
  },
  "language_info": {
   "codemirror_mode": {
    "name": "ipython",
    "version": 3
   },
   "file_extension": ".py",
   "mimetype": "text/x-python",
   "name": "python",
   "nbconvert_exporter": "python",
   "pygments_lexer": "ipython3",
   "version": "3.8.10"
  }
 },
 "nbformat": 4,
 "nbformat_minor": 5
}
