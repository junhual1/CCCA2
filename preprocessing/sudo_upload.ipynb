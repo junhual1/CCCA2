{
 "cells": [
  {
   "cell_type": "code",
   "execution_count": 1,
   "metadata": {},
   "outputs": [],
   "source": [
    "import couchdb\n",
    "import os\n",
    "import json"
   ]
  },
  {
   "cell_type": "code",
   "execution_count": null,
   "metadata": {},
   "outputs": [],
   "source": [
    "user = 'admin'\n",
    "psw = 'qazwsxedc'\n",
    "node_ip = '172.26.130.9'\n",
    "# connect to the CouchDB server\n",
    "server = couchdb.Server(f'http://{user}:{psw}@{node_ip}:5984')\n",
    "\n",
    "# select the database\n",
    "db = server['sudo']\n",
    "\n",
    "i = 0\n",
    "package = []\n",
    "\n",
    "with open(r\"../data/SUDO/SUA_jsonfile.json\", \"r\") as f:\n",
    "    data = json.load(f)\n",
    "    for item in data:\n",
    "        db.save(item)"
   ]
  }
 ],
 "metadata": {
  "kernelspec": {
   "display_name": "Python 3",
   "language": "python",
   "name": "python3"
  },
  "language_info": {
   "codemirror_mode": {
    "name": "ipython",
    "version": 3
   },
   "file_extension": ".py",
   "mimetype": "text/x-python",
   "name": "python",
   "nbconvert_exporter": "python",
   "pygments_lexer": "ipython3",
   "version": "3.8.10"
  },
  "orig_nbformat": 4
 },
 "nbformat": 4,
 "nbformat_minor": 2
}
