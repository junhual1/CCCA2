{
 "cells": [
  {
   "cell_type": "code",
   "execution_count": null,
   "metadata": {},
   "outputs": [],
   "source": [
    "import json\n",
    "\n",
    "# Load the JSON data from file\n",
    "with open('filt_tweet.json') as f:\n",
    "    try:\n",
    "        json_data = json.load(f, encoding='utf-8')\n",
    "\n",
    "    except json.decoder.JSONDecodeError as e:\n",
    "        print(f'Error: {e.msg} on line {e.lineno}, column {e.colno}')\n",
    "\n",
    "# Wrap the JSON data in an object with a \"data\" property\n",
    "wrapped_data = {'docs': json_data}\n",
    "\n",
    "# Write the wrapped JSON data to a new file\n",
    "with open('wrapped_data.json', 'w', encoding='utf-8') as f:\n",
    "    json.dump(wrapped_data, f)"
   ]
  },
  {
   "cell_type": "code",
   "execution_count": null,
   "metadata": {},
   "outputs": [],
   "source": [
    "import json\n",
    "\n",
    "def is_valid_utf8_json():\n",
    "    with open('wrapped_data.json', 'rb') as f:\n",
    "        try:\n",
    "            json_data = json.load(f, encoding='utf-8')\n",
    "            return True\n",
    "        except json.decoder.JSONDecodeError as e:\n",
    "            print(f'Error: {e.msg} on line {e.lineno}, column {e.colno}')\n",
    "            return False\n",
    "\n",
    "is_valid_utf8_json()"
   ]
  },
  {
   "cell_type": "code",
   "execution_count": null,
   "metadata": {},
   "outputs": [],
   "source": [
    "pip install couchdb\n"
   ]
  },
  {
   "cell_type": "code",
   "execution_count": 1,
   "metadata": {},
   "outputs": [
    {
     "ename": "TimeoutError",
     "evalue": "[WinError 10060] 由于连接方在一段时间后没有正确答复或连接的主机没有反应，连接尝试失败。",
     "output_type": "error",
     "traceback": [
      "\u001b[1;31m---------------------------------------------------------------------------\u001b[0m",
      "\u001b[1;31mStopIteration\u001b[0m                             Traceback (most recent call last)",
      "File \u001b[1;32m~\\AppData\\Roaming\\Python\\Python38\\site-packages\\couchdb\\http.py:306\u001b[0m, in \u001b[0;36mSession.request.<locals>._try_request_with_retries\u001b[1;34m(retries)\u001b[0m\n\u001b[0;32m    305\u001b[0m \u001b[39mtry\u001b[39;00m:\n\u001b[1;32m--> 306\u001b[0m     delay \u001b[39m=\u001b[39m \u001b[39mnext\u001b[39;49m(retries)\n\u001b[0;32m    307\u001b[0m \u001b[39mexcept\u001b[39;00m \u001b[39mStopIteration\u001b[39;00m:\n\u001b[0;32m    308\u001b[0m     \u001b[39m# No more retries, raise last socket error.\u001b[39;00m\n",
      "\u001b[1;31mStopIteration\u001b[0m: ",
      "\nDuring handling of the above exception, another exception occurred:\n",
      "\u001b[1;31mTimeoutError\u001b[0m                              Traceback (most recent call last)",
      "Cell \u001b[1;32mIn[1], line 23\u001b[0m\n\u001b[0;32m     21\u001b[0m data \u001b[39m=\u001b[39m json\u001b[39m.\u001b[39mload(f)\n\u001b[0;32m     22\u001b[0m \u001b[39mfor\u001b[39;00m item \u001b[39min\u001b[39;00m data:\n\u001b[1;32m---> 23\u001b[0m     db\u001b[39m.\u001b[39;49msave(item)\n",
      "File \u001b[1;32m~\\AppData\\Roaming\\Python\\Python38\\site-packages\\couchdb\\client.py:529\u001b[0m, in \u001b[0;36mDatabase.save\u001b[1;34m(self, doc, **options)\u001b[0m\n\u001b[0;32m    527\u001b[0m \u001b[39melse\u001b[39;00m:\n\u001b[0;32m    528\u001b[0m     func \u001b[39m=\u001b[39m \u001b[39mself\u001b[39m\u001b[39m.\u001b[39mresource\u001b[39m.\u001b[39mpost_json\n\u001b[1;32m--> 529\u001b[0m _, _, data \u001b[39m=\u001b[39m func(body\u001b[39m=\u001b[39;49mdoc, \u001b[39m*\u001b[39;49m\u001b[39m*\u001b[39;49moptions)\n\u001b[0;32m    530\u001b[0m \u001b[39mid\u001b[39m, rev \u001b[39m=\u001b[39m data[\u001b[39m'\u001b[39m\u001b[39mid\u001b[39m\u001b[39m'\u001b[39m], data\u001b[39m.\u001b[39mget(\u001b[39m'\u001b[39m\u001b[39mrev\u001b[39m\u001b[39m'\u001b[39m)\n\u001b[0;32m    531\u001b[0m doc[\u001b[39m'\u001b[39m\u001b[39m_id\u001b[39m\u001b[39m'\u001b[39m] \u001b[39m=\u001b[39m \u001b[39mid\u001b[39m\n",
      "File \u001b[1;32m~\\AppData\\Roaming\\Python\\Python38\\site-packages\\couchdb\\http.py:573\u001b[0m, in \u001b[0;36mResource.post_json\u001b[1;34m(self, path, body, headers, **params)\u001b[0m\n\u001b[0;32m    572\u001b[0m \u001b[39mdef\u001b[39;00m \u001b[39mpost_json\u001b[39m(\u001b[39mself\u001b[39m, path\u001b[39m=\u001b[39m\u001b[39mNone\u001b[39;00m, body\u001b[39m=\u001b[39m\u001b[39mNone\u001b[39;00m, headers\u001b[39m=\u001b[39m\u001b[39mNone\u001b[39;00m, \u001b[39m*\u001b[39m\u001b[39m*\u001b[39mparams):\n\u001b[1;32m--> 573\u001b[0m     \u001b[39mreturn\u001b[39;00m \u001b[39mself\u001b[39;49m\u001b[39m.\u001b[39;49m_request_json(\u001b[39m'\u001b[39;49m\u001b[39mPOST\u001b[39;49m\u001b[39m'\u001b[39;49m, path, body\u001b[39m=\u001b[39;49mbody, headers\u001b[39m=\u001b[39;49mheaders,\n\u001b[0;32m    574\u001b[0m                               \u001b[39m*\u001b[39;49m\u001b[39m*\u001b[39;49mparams)\n",
      "File \u001b[1;32m~\\AppData\\Roaming\\Python\\Python38\\site-packages\\couchdb\\http.py:595\u001b[0m, in \u001b[0;36mResource._request_json\u001b[1;34m(self, method, path, body, headers, **params)\u001b[0m\n\u001b[0;32m    594\u001b[0m \u001b[39mdef\u001b[39;00m \u001b[39m_request_json\u001b[39m(\u001b[39mself\u001b[39m, method, path\u001b[39m=\u001b[39m\u001b[39mNone\u001b[39;00m, body\u001b[39m=\u001b[39m\u001b[39mNone\u001b[39;00m, headers\u001b[39m=\u001b[39m\u001b[39mNone\u001b[39;00m, \u001b[39m*\u001b[39m\u001b[39m*\u001b[39mparams):\n\u001b[1;32m--> 595\u001b[0m     status, headers, data \u001b[39m=\u001b[39m \u001b[39mself\u001b[39;49m\u001b[39m.\u001b[39;49m_request(method, path, body\u001b[39m=\u001b[39;49mbody,\n\u001b[0;32m    596\u001b[0m                                           headers\u001b[39m=\u001b[39;49mheaders, \u001b[39m*\u001b[39;49m\u001b[39m*\u001b[39;49mparams)\n\u001b[0;32m    597\u001b[0m     \u001b[39mif\u001b[39;00m \u001b[39m'\u001b[39m\u001b[39mapplication/json\u001b[39m\u001b[39m'\u001b[39m \u001b[39min\u001b[39;00m headers\u001b[39m.\u001b[39mget(\u001b[39m'\u001b[39m\u001b[39mcontent-type\u001b[39m\u001b[39m'\u001b[39m, \u001b[39m'\u001b[39m\u001b[39m'\u001b[39m):\n\u001b[0;32m    598\u001b[0m         data \u001b[39m=\u001b[39m json\u001b[39m.\u001b[39mdecode(data\u001b[39m.\u001b[39mread()\u001b[39m.\u001b[39mdecode(\u001b[39m'\u001b[39m\u001b[39mutf-8\u001b[39m\u001b[39m'\u001b[39m))\n",
      "File \u001b[1;32m~\\AppData\\Roaming\\Python\\Python38\\site-packages\\couchdb\\http.py:590\u001b[0m, in \u001b[0;36mResource._request\u001b[1;34m(self, method, path, body, headers, **params)\u001b[0m\n\u001b[0;32m    588\u001b[0m \u001b[39melse\u001b[39;00m:\n\u001b[0;32m    589\u001b[0m     url \u001b[39m=\u001b[39m urljoin(\u001b[39mself\u001b[39m\u001b[39m.\u001b[39murl, \u001b[39m*\u001b[39m\u001b[39m*\u001b[39mparams)\n\u001b[1;32m--> 590\u001b[0m \u001b[39mreturn\u001b[39;00m \u001b[39mself\u001b[39;49m\u001b[39m.\u001b[39;49msession\u001b[39m.\u001b[39;49mrequest(method, url, body\u001b[39m=\u001b[39;49mbody,\n\u001b[0;32m    591\u001b[0m                             headers\u001b[39m=\u001b[39;49mall_headers,\n\u001b[0;32m    592\u001b[0m                             credentials\u001b[39m=\u001b[39;49m\u001b[39mself\u001b[39;49m\u001b[39m.\u001b[39;49mcredentials)\n",
      "File \u001b[1;32m~\\AppData\\Roaming\\Python\\Python38\\site-packages\\couchdb\\http.py:349\u001b[0m, in \u001b[0;36mSession.request\u001b[1;34m(self, method, url, body, headers, credentials, num_redirects)\u001b[0m\n\u001b[0;32m    346\u001b[0m         \u001b[39melse\u001b[39;00m:\n\u001b[0;32m    347\u001b[0m             \u001b[39mraise\u001b[39;00m\n\u001b[1;32m--> 349\u001b[0m resp \u001b[39m=\u001b[39m _try_request_with_retries(\u001b[39miter\u001b[39;49m(\u001b[39mself\u001b[39;49m\u001b[39m.\u001b[39;49mretry_delays))\n\u001b[0;32m    350\u001b[0m status \u001b[39m=\u001b[39m resp\u001b[39m.\u001b[39mstatus\n\u001b[0;32m    352\u001b[0m \u001b[39m# Handle conditional response\u001b[39;00m\n",
      "File \u001b[1;32m~\\AppData\\Roaming\\Python\\Python38\\site-packages\\couchdb\\http.py:309\u001b[0m, in \u001b[0;36mSession.request.<locals>._try_request_with_retries\u001b[1;34m(retries)\u001b[0m\n\u001b[0;32m    306\u001b[0m     delay \u001b[39m=\u001b[39m \u001b[39mnext\u001b[39m(retries)\n\u001b[0;32m    307\u001b[0m \u001b[39mexcept\u001b[39;00m \u001b[39mStopIteration\u001b[39;00m:\n\u001b[0;32m    308\u001b[0m     \u001b[39m# No more retries, raise last socket error.\u001b[39;00m\n\u001b[1;32m--> 309\u001b[0m     \u001b[39mraise\u001b[39;00m e\n\u001b[0;32m    310\u001b[0m \u001b[39mfinally\u001b[39;00m:\n\u001b[0;32m    311\u001b[0m     time\u001b[39m.\u001b[39msleep(delay)\n",
      "File \u001b[1;32m~\\AppData\\Roaming\\Python\\Python38\\site-packages\\couchdb\\http.py:300\u001b[0m, in \u001b[0;36mSession.request.<locals>._try_request_with_retries\u001b[1;34m(retries)\u001b[0m\n\u001b[0;32m    298\u001b[0m \u001b[39mwhile\u001b[39;00m \u001b[39mTrue\u001b[39;00m:\n\u001b[0;32m    299\u001b[0m     \u001b[39mtry\u001b[39;00m:\n\u001b[1;32m--> 300\u001b[0m         \u001b[39mreturn\u001b[39;00m _try_request()\n\u001b[0;32m    301\u001b[0m     \u001b[39mexcept\u001b[39;00m socket\u001b[39m.\u001b[39merror \u001b[39mas\u001b[39;00m e:\n\u001b[0;32m    302\u001b[0m         ecode \u001b[39m=\u001b[39m e\u001b[39m.\u001b[39margs[\u001b[39m0\u001b[39m]\n",
      "File \u001b[1;32m~\\AppData\\Roaming\\Python\\Python38\\site-packages\\couchdb\\http.py:326\u001b[0m, in \u001b[0;36mSession.request.<locals>._try_request\u001b[1;34m()\u001b[0m\n\u001b[0;32m    324\u001b[0m         conn\u001b[39m.\u001b[39mendheaders(body\u001b[39m.\u001b[39mencode(\u001b[39m'\u001b[39m\u001b[39mutf-8\u001b[39m\u001b[39m'\u001b[39m))\n\u001b[0;32m    325\u001b[0m     \u001b[39melse\u001b[39;00m:\n\u001b[1;32m--> 326\u001b[0m         conn\u001b[39m.\u001b[39;49mendheaders(body)\n\u001b[0;32m    327\u001b[0m \u001b[39melse\u001b[39;00m: \u001b[39m# assume a file-like object and send in chunks\u001b[39;00m\n\u001b[0;32m    328\u001b[0m     conn\u001b[39m.\u001b[39mendheaders()\n",
      "File \u001b[1;32mc:\\Program Files\\Python38\\lib\\http\\client.py:1247\u001b[0m, in \u001b[0;36mHTTPConnection.endheaders\u001b[1;34m(self, message_body, encode_chunked)\u001b[0m\n\u001b[0;32m   1245\u001b[0m \u001b[39melse\u001b[39;00m:\n\u001b[0;32m   1246\u001b[0m     \u001b[39mraise\u001b[39;00m CannotSendHeader()\n\u001b[1;32m-> 1247\u001b[0m \u001b[39mself\u001b[39;49m\u001b[39m.\u001b[39;49m_send_output(message_body, encode_chunked\u001b[39m=\u001b[39;49mencode_chunked)\n",
      "File \u001b[1;32mc:\\Program Files\\Python38\\lib\\http\\client.py:1007\u001b[0m, in \u001b[0;36mHTTPConnection._send_output\u001b[1;34m(self, message_body, encode_chunked)\u001b[0m\n\u001b[0;32m   1005\u001b[0m msg \u001b[39m=\u001b[39m \u001b[39mb\u001b[39m\u001b[39m\"\u001b[39m\u001b[39m\\r\u001b[39;00m\u001b[39m\\n\u001b[39;00m\u001b[39m\"\u001b[39m\u001b[39m.\u001b[39mjoin(\u001b[39mself\u001b[39m\u001b[39m.\u001b[39m_buffer)\n\u001b[0;32m   1006\u001b[0m \u001b[39mdel\u001b[39;00m \u001b[39mself\u001b[39m\u001b[39m.\u001b[39m_buffer[:]\n\u001b[1;32m-> 1007\u001b[0m \u001b[39mself\u001b[39;49m\u001b[39m.\u001b[39;49msend(msg)\n\u001b[0;32m   1009\u001b[0m \u001b[39mif\u001b[39;00m message_body \u001b[39mis\u001b[39;00m \u001b[39mnot\u001b[39;00m \u001b[39mNone\u001b[39;00m:\n\u001b[0;32m   1010\u001b[0m \n\u001b[0;32m   1011\u001b[0m     \u001b[39m# create a consistent interface to message_body\u001b[39;00m\n\u001b[0;32m   1012\u001b[0m     \u001b[39mif\u001b[39;00m \u001b[39mhasattr\u001b[39m(message_body, \u001b[39m'\u001b[39m\u001b[39mread\u001b[39m\u001b[39m'\u001b[39m):\n\u001b[0;32m   1013\u001b[0m         \u001b[39m# Let file-like take precedence over byte-like.  This\u001b[39;00m\n\u001b[0;32m   1014\u001b[0m         \u001b[39m# is needed to allow the current position of mmap'ed\u001b[39;00m\n\u001b[0;32m   1015\u001b[0m         \u001b[39m# files to be taken into account.\u001b[39;00m\n",
      "File \u001b[1;32mc:\\Program Files\\Python38\\lib\\http\\client.py:947\u001b[0m, in \u001b[0;36mHTTPConnection.send\u001b[1;34m(self, data)\u001b[0m\n\u001b[0;32m    945\u001b[0m \u001b[39mif\u001b[39;00m \u001b[39mself\u001b[39m\u001b[39m.\u001b[39msock \u001b[39mis\u001b[39;00m \u001b[39mNone\u001b[39;00m:\n\u001b[0;32m    946\u001b[0m     \u001b[39mif\u001b[39;00m \u001b[39mself\u001b[39m\u001b[39m.\u001b[39mauto_open:\n\u001b[1;32m--> 947\u001b[0m         \u001b[39mself\u001b[39;49m\u001b[39m.\u001b[39;49mconnect()\n\u001b[0;32m    948\u001b[0m     \u001b[39melse\u001b[39;00m:\n\u001b[0;32m    949\u001b[0m         \u001b[39mraise\u001b[39;00m NotConnected()\n",
      "File \u001b[1;32mc:\\Program Files\\Python38\\lib\\http\\client.py:918\u001b[0m, in \u001b[0;36mHTTPConnection.connect\u001b[1;34m(self)\u001b[0m\n\u001b[0;32m    916\u001b[0m \u001b[39mdef\u001b[39;00m \u001b[39mconnect\u001b[39m(\u001b[39mself\u001b[39m):\n\u001b[0;32m    917\u001b[0m \u001b[39m    \u001b[39m\u001b[39m\"\"\"Connect to the host and port specified in __init__.\"\"\"\u001b[39;00m\n\u001b[1;32m--> 918\u001b[0m     \u001b[39mself\u001b[39m\u001b[39m.\u001b[39msock \u001b[39m=\u001b[39m \u001b[39mself\u001b[39;49m\u001b[39m.\u001b[39;49m_create_connection(\n\u001b[0;32m    919\u001b[0m         (\u001b[39mself\u001b[39;49m\u001b[39m.\u001b[39;49mhost,\u001b[39mself\u001b[39;49m\u001b[39m.\u001b[39;49mport), \u001b[39mself\u001b[39;49m\u001b[39m.\u001b[39;49mtimeout, \u001b[39mself\u001b[39;49m\u001b[39m.\u001b[39;49msource_address)\n\u001b[0;32m    920\u001b[0m     \u001b[39mself\u001b[39m\u001b[39m.\u001b[39msock\u001b[39m.\u001b[39msetsockopt(socket\u001b[39m.\u001b[39mIPPROTO_TCP, socket\u001b[39m.\u001b[39mTCP_NODELAY, \u001b[39m1\u001b[39m)\n\u001b[0;32m    922\u001b[0m     \u001b[39mif\u001b[39;00m \u001b[39mself\u001b[39m\u001b[39m.\u001b[39m_tunnel_host:\n",
      "File \u001b[1;32mc:\\Program Files\\Python38\\lib\\socket.py:808\u001b[0m, in \u001b[0;36mcreate_connection\u001b[1;34m(address, timeout, source_address)\u001b[0m\n\u001b[0;32m    806\u001b[0m \u001b[39mif\u001b[39;00m err \u001b[39mis\u001b[39;00m \u001b[39mnot\u001b[39;00m \u001b[39mNone\u001b[39;00m:\n\u001b[0;32m    807\u001b[0m     \u001b[39mtry\u001b[39;00m:\n\u001b[1;32m--> 808\u001b[0m         \u001b[39mraise\u001b[39;00m err\n\u001b[0;32m    809\u001b[0m     \u001b[39mfinally\u001b[39;00m:\n\u001b[0;32m    810\u001b[0m         \u001b[39m# Break explicitly a reference cycle\u001b[39;00m\n\u001b[0;32m    811\u001b[0m         err \u001b[39m=\u001b[39m \u001b[39mNone\u001b[39;00m\n",
      "File \u001b[1;32mc:\\Program Files\\Python38\\lib\\socket.py:796\u001b[0m, in \u001b[0;36mcreate_connection\u001b[1;34m(address, timeout, source_address)\u001b[0m\n\u001b[0;32m    794\u001b[0m \u001b[39mif\u001b[39;00m source_address:\n\u001b[0;32m    795\u001b[0m     sock\u001b[39m.\u001b[39mbind(source_address)\n\u001b[1;32m--> 796\u001b[0m sock\u001b[39m.\u001b[39;49mconnect(sa)\n\u001b[0;32m    797\u001b[0m \u001b[39m# Break explicitly a reference cycle\u001b[39;00m\n\u001b[0;32m    798\u001b[0m err \u001b[39m=\u001b[39m \u001b[39mNone\u001b[39;00m\n",
      "\u001b[1;31mTimeoutError\u001b[0m: [WinError 10060] 由于连接方在一段时间后没有正确答复或连接的主机没有反应，连接尝试失败。"
     ]
    }
   ],
   "source": [
    "import couchdb\n",
    "import os\n",
    "import json\n",
    "\n",
    "directory = r\"..\\data\\Twitter\"  # replace with the path to your directory\n",
    "user = 'admin'\n",
    "psw = 'qazwsxedc'\n",
    "node_ip = '172.26.132.54'\n",
    "# connect to the CouchDB server\n",
    "server = couchdb.Server(f'http://{user}:{psw}@{node_ip}:5984')\n",
    "\n",
    "# select the database\n",
    "db = server['twitter']\n",
    "\n",
    "i = 0\n",
    "package = []\n",
    "for filename in os.listdir(directory):\n",
    "    if filename.endswith(\".json\"):\n",
    "        filepath = os.path.join(directory, filename)\n",
    "        with open(filepath, \"r\") as f:\n",
    "            data = json.load(f)\n",
    "            for item in data:\n",
    "                db.save(item)"
   ]
  }
 ],
 "metadata": {
  "kernelspec": {
   "display_name": "Python 3",
   "language": "python",
   "name": "python3"
  },
  "language_info": {
   "codemirror_mode": {
    "name": "ipython",
    "version": 3
   },
   "file_extension": ".py",
   "mimetype": "text/x-python",
   "name": "python",
   "nbconvert_exporter": "python",
   "pygments_lexer": "ipython3",
   "version": "3.8.10"
  },
  "orig_nbformat": 4
 },
 "nbformat": 4,
 "nbformat_minor": 2
}
