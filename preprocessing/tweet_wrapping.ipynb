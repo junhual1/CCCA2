{
 "cells": [
  {
   "cell_type": "code",
   "execution_count": 13,
   "metadata": {},
   "outputs": [],
   "source": [
    "import json\n",
    "\n",
    "# Load the JSON data from file\n",
    "with open('filt_tweet.json') as f:\n",
    "    try:\n",
    "        json_data = json.load(f, encoding='utf-8')\n",
    "\n",
    "    except json.decoder.JSONDecodeError as e:\n",
    "        print(f'Error: {e.msg} on line {e.lineno}, column {e.colno}')\n",
    "\n",
    "# Wrap the JSON data in an object with a \"data\" property\n",
    "wrapped_data = {'docs': json_data}\n",
    "\n",
    "# Write the wrapped JSON data to a new file\n",
    "with open('wrapped_data.json', 'w', encoding='utf-8') as f:\n",
    "    json.dump(wrapped_data, f)"
   ]
  },
  {
   "cell_type": "code",
   "execution_count": 14,
   "metadata": {},
   "outputs": [
    {
     "data": {
      "text/plain": [
       "True"
      ]
     },
     "execution_count": 14,
     "metadata": {},
     "output_type": "execute_result"
    }
   ],
   "source": [
    "import json\n",
    "\n",
    "def is_valid_utf8_json():\n",
    "    with open('wrapped_data.json', 'rb') as f:\n",
    "        try:\n",
    "            json_data = json.load(f, encoding='utf-8')\n",
    "            return True\n",
    "        except json.decoder.JSONDecodeError as e:\n",
    "            print(f'Error: {e.msg} on line {e.lineno}, column {e.colno}')\n",
    "            return False\n",
    "\n",
    "is_valid_utf8_json()"
   ]
  }
 ],
 "metadata": {
  "kernelspec": {
   "display_name": "Python 3",
   "language": "python",
   "name": "python3"
  },
  "language_info": {
   "codemirror_mode": {
    "name": "ipython",
    "version": 3
   },
   "file_extension": ".py",
   "mimetype": "text/x-python",
   "name": "python",
   "nbconvert_exporter": "python",
   "pygments_lexer": "ipython3",
   "version": "3.8.10"
  },
  "orig_nbformat": 4
 },
 "nbformat": 4,
 "nbformat_minor": 2
}
